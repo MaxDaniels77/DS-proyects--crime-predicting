{
 "cells": [
  {
   "cell_type": "code",
   "execution_count": 1,
   "metadata": {},
   "outputs": [],
   "source": [
    "import pandas as pd\n",
    "import numpy\n"
   ]
  },
  {
   "cell_type": "code",
   "execution_count": 2,
   "metadata": {},
   "outputs": [],
   "source": [
    "data=pd.read_csv(\"/home/daniel/Documentos/Documentos de Programación/Documentos Python/Proyecto delito/kepler-gl_Delito2018.csv.\")"
   ]
  },
  {
   "cell_type": "code",
   "execution_count": 28,
   "metadata": {},
   "outputs": [
    {
     "data": {
      "text/html": [
       "<div>\n",
       "<style scoped>\n",
       "    .dataframe tbody tr th:only-of-type {\n",
       "        vertical-align: middle;\n",
       "    }\n",
       "\n",
       "    .dataframe tbody tr th {\n",
       "        vertical-align: top;\n",
       "    }\n",
       "\n",
       "    .dataframe thead th {\n",
       "        text-align: right;\n",
       "    }\n",
       "</style>\n",
       "<table border=\"1\" class=\"dataframe\">\n",
       "  <thead>\n",
       "    <tr style=\"text-align: right;\">\n",
       "      <th></th>\n",
       "      <th>MES</th>\n",
       "      <th>DIA DE LA SEMANA</th>\n",
       "      <th>FECHA DEL  HECHO</th>\n",
       "      <th>FRANJA 24 HS</th>\n",
       "      <th>HORA DEL HECHO</th>\n",
       "      <th>TIPO DE DELITO</th>\n",
       "      <th>CANTIDAD DE VICTIMAS</th>\n",
       "      <th>LATITUD</th>\n",
       "      <th>LONGITUD</th>\n",
       "      <th>COMUNA</th>\n",
       "      <th>BARRIO</th>\n",
       "    </tr>\n",
       "  </thead>\n",
       "  <tbody>\n",
       "    <tr>\n",
       "      <th>0</th>\n",
       "      <td>Enero</td>\n",
       "      <td>Martes</td>\n",
       "      <td>2018-01-16</td>\n",
       "      <td>10.0</td>\n",
       "      <td>10:15:00</td>\n",
       "      <td>Hurto (Sin violencia)</td>\n",
       "      <td>False</td>\n",
       "      <td>NaN</td>\n",
       "      <td>NaN</td>\n",
       "      <td>NaN</td>\n",
       "      <td>NaN</td>\n",
       "    </tr>\n",
       "    <tr>\n",
       "      <th>1</th>\n",
       "      <td>Enero</td>\n",
       "      <td>Miercoles</td>\n",
       "      <td>2018-01-17</td>\n",
       "      <td>10.0</td>\n",
       "      <td>10:30:00</td>\n",
       "      <td>Hurto (Sin violencia)</td>\n",
       "      <td>False</td>\n",
       "      <td>NaN</td>\n",
       "      <td>NaN</td>\n",
       "      <td>NaN</td>\n",
       "      <td>NaN</td>\n",
       "    </tr>\n",
       "    <tr>\n",
       "      <th>2</th>\n",
       "      <td>Enero</td>\n",
       "      <td>Lunes</td>\n",
       "      <td>2018-01-01</td>\n",
       "      <td>9.0</td>\n",
       "      <td>09:45:00</td>\n",
       "      <td>Hurto (Sin violencia)</td>\n",
       "      <td>False</td>\n",
       "      <td>NaN</td>\n",
       "      <td>NaN</td>\n",
       "      <td>NaN</td>\n",
       "      <td>NaN</td>\n",
       "    </tr>\n",
       "    <tr>\n",
       "      <th>3</th>\n",
       "      <td>Enero</td>\n",
       "      <td>Viernes</td>\n",
       "      <td>2018-01-26</td>\n",
       "      <td>8.0</td>\n",
       "      <td>08:30:00</td>\n",
       "      <td>Hurto (Sin violencia)</td>\n",
       "      <td>False</td>\n",
       "      <td>NaN</td>\n",
       "      <td>NaN</td>\n",
       "      <td>NaN</td>\n",
       "      <td>NaN</td>\n",
       "    </tr>\n",
       "    <tr>\n",
       "      <th>4</th>\n",
       "      <td>Enero</td>\n",
       "      <td>Lunes</td>\n",
       "      <td>2018-01-22</td>\n",
       "      <td>9.0</td>\n",
       "      <td>09:00:00</td>\n",
       "      <td>Hurto (Sin violencia)</td>\n",
       "      <td>False</td>\n",
       "      <td>NaN</td>\n",
       "      <td>NaN</td>\n",
       "      <td>NaN</td>\n",
       "      <td>NaN</td>\n",
       "    </tr>\n",
       "  </tbody>\n",
       "</table>\n",
       "</div>"
      ],
      "text/plain": [
       "     MES DIA DE LA SEMANA FECHA DEL  HECHO  FRANJA 24 HS HORA DEL HECHO  \\\n",
       "0  Enero           Martes       2018-01-16          10.0       10:15:00   \n",
       "1  Enero        Miercoles       2018-01-17          10.0       10:30:00   \n",
       "2  Enero            Lunes       2018-01-01           9.0       09:45:00   \n",
       "3  Enero          Viernes       2018-01-26           8.0       08:30:00   \n",
       "4  Enero            Lunes       2018-01-22           9.0       09:00:00   \n",
       "\n",
       "          TIPO DE DELITO  CANTIDAD DE VICTIMAS  LATITUD  LONGITUD COMUNA  \\\n",
       "0  Hurto (Sin violencia)                 False      NaN       NaN    NaN   \n",
       "1  Hurto (Sin violencia)                 False      NaN       NaN    NaN   \n",
       "2  Hurto (Sin violencia)                 False      NaN       NaN    NaN   \n",
       "3  Hurto (Sin violencia)                 False      NaN       NaN    NaN   \n",
       "4  Hurto (Sin violencia)                 False      NaN       NaN    NaN   \n",
       "\n",
       "  BARRIO  \n",
       "0    NaN  \n",
       "1    NaN  \n",
       "2    NaN  \n",
       "3    NaN  \n",
       "4    NaN  "
      ]
     },
     "execution_count": 28,
     "metadata": {},
     "output_type": "execute_result"
    }
   ],
   "source": [
    "data.head()"
   ]
  },
  {
   "cell_type": "code",
   "execution_count": 23,
   "metadata": {},
   "outputs": [],
   "source": [
    "delitos_por_dia=data.groupby([\"DIA DE LA SEMANA\",\"TIPO DE DELITO\"])"
   ]
  },
  {
   "cell_type": "code",
   "execution_count": 29,
   "metadata": {},
   "outputs": [
    {
     "data": {
      "text/plain": [
       "count       21.000000\n",
       "mean      4957.523810\n",
       "std       4104.353233\n",
       "min         11.000000\n",
       "25%         23.000000\n",
       "50%       5321.000000\n",
       "75%       8970.000000\n",
       "max      10572.000000\n",
       "dtype: float64"
      ]
     },
     "execution_count": 29,
     "metadata": {},
     "output_type": "execute_result"
    }
   ],
   "source": [
    "delitos_por_dia.size().describe()\n"
   ]
  },
  {
   "cell_type": "code",
   "execution_count": null,
   "metadata": {},
   "outputs": [],
   "source": []
  },
  {
   "cell_type": "code",
   "execution_count": null,
   "metadata": {},
   "outputs": [],
   "source": []
  }
 ],
 "metadata": {
  "kernelspec": {
   "display_name": "Python 3",
   "language": "python",
   "name": "python3"
  },
  "language_info": {
   "codemirror_mode": {
    "name": "ipython",
    "version": 3
   },
   "file_extension": ".py",
   "mimetype": "text/x-python",
   "name": "python",
   "nbconvert_exporter": "python",
   "pygments_lexer": "ipython3",
   "version": "3.7.1"
  }
 },
 "nbformat": 4,
 "nbformat_minor": 2
}
